{
 "cells": [
  {
   "cell_type": "code",
   "execution_count": 1,
   "metadata": {},
   "outputs": [],
   "source": [
    "import os, sys, glob, math, csv\n",
    "\n",
    "import cv2\n",
    "import numpy as np\n",
    "import pandas as pd\n",
    "import matplotlib.pyplot as plt"
   ]
  },
  {
   "cell_type": "code",
   "execution_count": 22,
   "metadata": {},
   "outputs": [],
   "source": [
    "\n",
    "##########################################################################\n",
    "##          movie files and parameters\n",
    "##########################################################################\n",
    "DATAHOME = '/home/staff1/ctorney/data/wildebeest_front/'\n",
    "inputname = DATAHOME + '/wildfront.csv'\n",
    "dfMovies = pd.read_csv(inputname)\n",
    "\n",
    "\n",
    "dfMovies = dfMovies[dfMovies['ir']==0]\n",
    "beestList = np.zeros(shape=(0,3))\n",
    "##########################################################################\n",
    "##          loop through movies in list\n",
    "##########################################################################\n",
    "for index, d in dfMovies.iterrows():\n",
    "    filename = DATAHOME + d['filename']\n",
    "    direct, ext = os.path.split(filename)\n",
    "    noext, _ = os.path.splitext(ext)\n",
    "    inputdatafile = direct + '/proc/' +  noext + '_POS.txt'\n",
    "    warpsfile = direct + '/proc/' + noext + '_WARP.npy'\n",
    "    data = np.genfromtxt(inputdatafile,delimiter=',') #,dtype=None, names=True)\n",
    "    \n",
    "    \n",
    "    \n",
    "    timepoints=data[:,0]\n",
    "    w_ids=(data[:,1])\n",
    "   \n",
    "    for i in range(int(np.max(timepoints)//(4*60))):\n",
    "        indexes = (timepoints>(i*4*60))&(timepoints<((i+1)*4*60))\n",
    "        t_w_id = w_ids[indexes]\n",
    "        t_tp = timepoints[indexes]\n",
    "        for w in np.unique(t_w_id):\n",
    "            length = np.max(t_tp[t_w_id==w])-np.min(t_tp[t_w_id==w])\n",
    "            if length>(59*4):\n",
    "                beestList=np.append(beestList,np.array([[index,i,w]]),axis=0)\n",
    "                count+=1\n",
    "        \n",
    "    \n",
    "beest2000i = np.random.choice(beestList.shape[0], 2000, replace=False)\n",
    "beest2000i = np.sort(beest2000i)\n",
    "beest2000 = beestList[beest2000i,:]\n",
    "np.save('beest2000.npy',beest2000)"
   ]
  },
  {
   "cell_type": "code",
   "execution_count": 41,
   "metadata": {},
   "outputs": [],
   "source": [
    "beest1000=np.load('beest2000.npy')\n",
    "##########################################################################\n",
    "##          movie files and parameters\n",
    "##########################################################################\n",
    "DATAHOME = '/home/staff1/ctorney/data/wildebeest_front/'\n",
    "inputname = DATAHOME + '/wildfront.csv'\n",
    "dfMovies = pd.read_csv(inputname)\n",
    "\n",
    "\n",
    "dfMovies = dfMovies[dfMovies['ir']==0]\n",
    "bcount=0\n",
    "##########################################################################\n",
    "##          loop through movies in list\n",
    "##########################################################################\n",
    "BFA = np.zeros((0,11))\n",
    "for index, d in dfMovies.iterrows():\n",
    "    \n",
    "    filename = DATAHOME + d['filename']\n",
    "    direct, ext = os.path.split(filename)\n",
    "    noext, _ = os.path.splitext(ext)\n",
    "    inputdatafile = direct + '/proc/' +  noext + '_POS.txt'\n",
    "    #warpsfile = direct + '/proc/' + noext + '_WARP.npy'\n",
    "    BLfile = direct + '/proc/' +  noext + '_BL.npy'\n",
    "    bodylengths = np.load(BLfile)\n",
    "    data = np.genfromtxt(inputdatafile,delimiter=',') #,dtype=None, names=True)\n",
    "    \n",
    "    thisFile = beest1000[beest1000[:,0]==index]\n",
    "    count=0\n",
    "    timepoints=data[:,0]\n",
    "    w_ids=(data[:,1])\n",
    "    xpos = 0.5*(data[:,2]+data[:,4])\n",
    "    ypos = 0.5*(data[:,3]+data[:,5])\n",
    "    movieArray = np.zeros((0,11))\n",
    "    for i in range(int(np.max(timepoints)//(4*60))):\n",
    "        indexes = (timepoints>(i*4*60))&(timepoints<((i+1)*4*60))\n",
    "        t_w_id = w_ids[indexes]\n",
    "        t_tp = timepoints[indexes]\n",
    "        t_xp = xpos[indexes]\n",
    "        t_yp = ypos[indexes]\n",
    "        beestList = beest1000[(beest1000[:,0]==index)&(beest1000[:,1]==i),2]\n",
    "        for b in beestList:\n",
    "            if bcount==1000: \n",
    "                break\n",
    "            beestTime = t_tp[t_w_id==b]\n",
    "            beestX = t_xp[t_w_id==b]\n",
    "            beestY = t_yp[t_w_id==b]\n",
    "            minT = int(np.min(beestTime))\n",
    "            maxT = int(np.max(beestTime))\n",
    "            if np.sum(bodylengths[minT:maxT]==0)>0:\n",
    "                continue\n",
    "            ibeestX = np.interp(np.arange(minT,maxT+1),beestTime,beestX)\n",
    "            ibeestY = np.interp(np.arange(minT,maxT+1),beestTime,beestY)\n",
    "            ts = np.arange(minT,maxT+1)\n",
    "            beestArray = np.zeros((0,11))\n",
    "            for ft in range(len(ts)):\n",
    "                bl = bodylengths[ts[ft]]\n",
    "                cx = ibeestX[ft]/bl\n",
    "                cy = ibeestY[ft]/bl\n",
    "                otherX = t_xp[(t_w_id!=b)&(t_tp==ts[ft])]/bl\n",
    "                otherY = t_yp[(t_w_id!=b)&(t_tp==ts[ft])]/bl\n",
    "                diffs = (cx-otherX)**2+(cy-otherY)**2\n",
    "                if len(diffs)<5:\n",
    "                    beestArray = np.zeros((0,11))\n",
    "                    break\n",
    "                k = 4\n",
    "\n",
    "                idx = np.argpartition(diffs, k)\n",
    "                beestArray = np.vstack((beestArray, np.hstack((bcount, cx,cy,otherX[idx[:k]].T,otherY[idx[:k]].T))))\n",
    "            if len(beestArray)>0:\n",
    "                movieArray = np.vstack((movieArray, beestArray))\n",
    "                bcount+=1\n",
    "        \n",
    "    BFA = np.vstack((BFA, movieArray))\n",
    "    "
   ]
  },
  {
   "cell_type": "code",
   "execution_count": 46,
   "metadata": {},
   "outputs": [],
   "source": [
    "np.save('BFA.npy',BFA)\n"
   ]
  },
  {
   "cell_type": "code",
   "execution_count": 38,
   "metadata": {},
   "outputs": [],
   "source": [
    "beestArray = np.zeros((0,11))"
   ]
  },
  {
   "cell_type": "code",
   "execution_count": 45,
   "metadata": {},
   "outputs": [
    {
     "data": {
      "text/plain": [
       "(1000,)"
      ]
     },
     "execution_count": 45,
     "metadata": {},
     "output_type": "execute_result"
    }
   ],
   "source": [
    "np.unique(BFA[:,0]).shape"
   ]
  },
  {
   "cell_type": "code",
   "execution_count": 33,
   "metadata": {},
   "outputs": [],
   "source": [
    "k = min(4,len(diffs)-1)"
   ]
  },
  {
   "cell_type": "code",
   "execution_count": 37,
   "metadata": {},
   "outputs": [
    {
     "data": {
      "text/plain": [
       "3"
      ]
     },
     "execution_count": 37,
     "metadata": {},
     "output_type": "execute_result"
    }
   ],
   "source": [
    "k"
   ]
  },
  {
   "cell_type": "code",
   "execution_count": 45,
   "metadata": {},
   "outputs": [],
   "source": [
    "beestList=np.append(beestList,np.array([[index,w]]),axis=0)"
   ]
  },
  {
   "cell_type": "code",
   "execution_count": 75,
   "metadata": {},
   "outputs": [
    {
     "data": {
      "text/plain": [
       "(301, 3)"
      ]
     },
     "execution_count": 75,
     "metadata": {},
     "output_type": "execute_result"
    }
   ],
   "source": [
    "beestList.shape"
   ]
  },
  {
   "cell_type": "code",
   "execution_count": 71,
   "metadata": {},
   "outputs": [
    {
     "data": {
      "text/plain": [
       "2239.0"
      ]
     },
     "execution_count": 71,
     "metadata": {},
     "output_type": "execute_result"
    }
   ],
   "source": [
    "np.max(timepoints)\n"
   ]
  },
  {
   "cell_type": "code",
   "execution_count": 73,
   "metadata": {},
   "outputs": [
    {
     "name": "stdout",
     "output_type": "stream",
     "text": [
      "240\n",
      "480\n",
      "720\n",
      "960\n",
      "1200\n",
      "1440\n",
      "1680\n",
      "1920\n",
      "2160\n"
     ]
    }
   ],
   "source": [
    "for i in range(int(np.max(timepoints)//(4*60))):\n",
    "    print((i+1)*4*60)"
   ]
  },
  {
   "cell_type": "code",
   "execution_count": null,
   "metadata": {},
   "outputs": [],
   "source": []
  }
 ],
 "metadata": {
  "kernelspec": {
   "display_name": "Python 3",
   "language": "python",
   "name": "python3"
  },
  "language_info": {
   "codemirror_mode": {
    "name": "ipython",
    "version": 3
   },
   "file_extension": ".py",
   "mimetype": "text/x-python",
   "name": "python",
   "nbconvert_exporter": "python",
   "pygments_lexer": "ipython3",
   "version": "3.6.3"
  }
 },
 "nbformat": 4,
 "nbformat_minor": 2
}
