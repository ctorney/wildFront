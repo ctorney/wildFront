{
 "cells": [
  {
   "cell_type": "code",
   "execution_count": 1,
   "metadata": {},
   "outputs": [],
   "source": [
    "import os, sys, glob, math, csv\n",
    "\n",
    "import cv2\n",
    "import numpy as np\n",
    "import pandas as pd\n",
    "import matplotlib.pyplot as plt"
   ]
  },
  {
   "cell_type": "code",
   "execution_count": 19,
   "metadata": {},
   "outputs": [],
   "source": [
    "\n",
    "##########################################################################\n",
    "##          movie files and parameters\n",
    "##########################################################################\n",
    "DATAHOME = '/home/staff1/ctorney/data/wildebeest_front/'\n",
    "inputname = DATAHOME + '/wildfront.csv'\n",
    "dfMovies = pd.read_csv(inputname)\n",
    "\n",
    "\n",
    "dfMovies = dfMovies[dfMovies['ir']==0]\n",
    "beestList = np.zeros(shape=(0,3))\n",
    "##########################################################################\n",
    "##          loop through movies in list\n",
    "##########################################################################\n",
    "for index, d in dfMovies.iterrows():\n",
    "    filename = DATAHOME + d['filename']\n",
    "    direct, ext = os.path.split(filename)\n",
    "    noext, _ = os.path.splitext(ext)\n",
    "    outputBLfile = direct + '/proc/' +  noext + '_BL.npy'\n",
    "    inputdatafile = direct + '/proc/' +  noext + '_POS.txt'\n",
    "    warpsfile = direct + '/proc/' + noext + '_WARP.npy'\n",
    "    warps = np.load(warpsfile)\n",
    "\n",
    "    data = np.genfromtxt(inputdatafile,delimiter=',') #,dtype=None, names=True)\n",
    "\n",
    "    timepoints=data[:,0]\n",
    "    w_ids=(data[:,1])\n",
    "    widths= data[:,4]-data[:,2]\n",
    "    xpos = 0.5*(data[:,2]+data[:,4])\n",
    "    ypos = 0.5*(data[:,3]+data[:,5])\n",
    "    mins = len(warps)//240+1\n",
    "    bodylengths = np.zeros(mins)\n",
    "    \n",
    "    for i in range(mins):\n",
    "        newWidths = np.zeros((0,1))\n",
    "        for t in range(i*240,min(len(warps),(i+1)*240)):\n",
    "            \n",
    "        \n",
    "            warp = warps[t]\n",
    "            thisInds = timepoints==t\n",
    "            if np.sum(thisInds)==0:\n",
    "                continue\n",
    "            thisID = w_ids[thisInds]\n",
    "            thisXP = xpos[thisInds]\n",
    "            thisYP = ypos[thisInds]\n",
    "            thisWidth = widths[thisInds]\n",
    "            #im_aligned = np.zeros_like(frame)\n",
    "            #im_aligned = cv2.warpPerspective(frame, warp, (S[0],S[1]), dst=im_aligned, borderMode=cv2.BORDER_TRANSPARENT)\n",
    "            iwarp = np.linalg.inv(warp)\n",
    "\n",
    "            centre = np.vstack((thisXP[:].T,thisYP[:].T)).T\n",
    "            centre = np.expand_dims(centre,axis=0)\n",
    "            centre = cv2.perspectiveTransform(centre,iwarp)[0]\n",
    "            lefts = np.vstack((centre[:,0]-0.5*thisWidth,centre[:,1].T)).T\n",
    "            lefts = np.expand_dims(lefts,axis=0)\n",
    "            lefts = cv2.perspectiveTransform(lefts,warp)[0]\n",
    "            rights = np.vstack((centre[:,0]+0.5*thisWidth,centre[:,1].T)).T\n",
    "            rights = np.expand_dims(rights,axis=0)\n",
    "            rights = cv2.perspectiveTransform(rights,warp)[0]\n",
    "            newWidths = np.append(newWidths, rights[:,0]-lefts[:,0])\n",
    "        bodylengths[i] = np.percentile(newWidths, 90)\n",
    "#           cv2.circle(im_aligned, (int(centre[0]), int(centre[1])),5,(255,255,255), -1)\n",
    "    np.save(outputBLfile,bodylengths)\n",
    "    \n",
    "# iwarp = np.linalg.inv(warp)\n",
    "#                 bwidth = bbox[2]-bbox[0]\n",
    "#                 bheight = bbox[3]-bbox[1]\n",
    "#                 centre = np.expand_dims([0.5*(bbox[0]+bbox[2]),0.5*(bbox[1]+bbox[3])], axis=0)\n",
    "#                 centre = np.expand_dims(centre,axis=0)\n",
    "# centre = cv2.perspectiveTransform(centre,iwarp)[0,0,:]\n",
    "\n",
    "#     for i in range(int(np.max(timepoints)//(4*60))):\n",
    "#         indexes = (timepoints>(i*4*60))&(timepoints<((i+1)*4*60))\n",
    "#         t_w_id = w_ids[indexes]\n",
    "#         t_tp = timepoints[indexes]\n",
    "#         for w in np.unique(t_w_id):\n",
    "#             length = np.max(t_tp[t_w_id==w])-np.min(t_tp[t_w_id==w])\n",
    "#             if length>(59*4):\n",
    "#                 beestList=np.append(beestList,np.array([[index,i,w]]),axis=0)\n",
    "#                 count+=1\n",
    "        \n",
    "    \n",
    "#     print(count)"
   ]
  },
  {
   "cell_type": "code",
   "execution_count": 77,
   "metadata": {},
   "outputs": [
    {
     "data": {
      "image/png": "[encoded data removed]",
      "text/plain": [
       "<matplotlib.figure.Figure at 0x7faf55aa7cf8>"
      ]
     },
     "metadata": {},
     "output_type": "display_data"
    }
   ],
   "source": [
    "plt.plot(lefts[:,0],-centre[:,1],'.')\n",
    "plt.plot(rights[:,0],-centre[:,1],'.')\n",
    "plt.show()"
   ]
  },
  {
   "cell_type": "code",
   "execution_count": 21,
   "metadata": {},
   "outputs": [
    {
     "name": "stdout",
     "output_type": "stream",
     "text": [
      "beest1000.npy  body_length.ipynb         plotTracks.ipynb\r\n",
      "beest2000.npy  data_check.ipynb          potential_model.ipynb\r\n",
      "BFA.npy        data_preprocessing.ipynb  trajectories.ipynb\r\n"
     ]
    }
   ],
   "source": [
    "ls"
   ]
  },
  {
   "cell_type": "code",
   "execution_count": 20,
   "metadata": {},
   "outputs": [
    {
     "data": {
      "image/png": "[encoded data removed]",
      "text/plain": [
       "<matplotlib.figure.Figure at 0x7f0129dc8978>"
      ]
     },
     "metadata": {},
     "output_type": "display_data"
    }
   ],
   "source": [
    "plt.plot(bodylengths)\n",
    "\n",
    "plt.show()"
   ]
  },
  {
   "cell_type": "code",
   "execution_count": 18,
   "metadata": {},
   "outputs": [
    {
     "data": {
      "text/plain": [
       "array([18.07161685, 15.36799942, 14.11019126, 20.30047647, 16.75507935,\n",
       "       16.90380723, 17.09477134, 17.46397177, 16.05253531, 21.09995623])"
      ]
     },
     "execution_count": 18,
     "metadata": {},
     "output_type": "execute_result"
    }
   ],
   "source": [
    "bodylengths\n"
   ]
  },
  {
   "cell_type": "code",
   "execution_count": 18,
   "metadata": {},
   "outputs": [],
   "source": [
    "centre = np.expand_dims(centre,axis=0)"
   ]
  },
  {
   "cell_type": "code",
   "execution_count": 23,
   "metadata": {},
   "outputs": [],
   "source": [
    "a = np.array([[1, 2], [4, 5], [7, 8]], dtype='float32')\n",
    "h = np.array([[1, 2, 3], [4, 5, 6], [7, 8, 9]], dtype='float32')\n",
    "a = np.array([a])\n",
    "\n",
    "pointsOut = cv2.perspectiveTransform(a, h)"
   ]
  },
  {
   "cell_type": "code",
   "execution_count": 50,
   "metadata": {},
   "outputs": [
    {
     "data": {
      "text/plain": [
       "(227, 2)"
      ]
     },
     "execution_count": 50,
     "metadata": {},
     "output_type": "execute_result"
    }
   ],
   "source": [
    "centre.shape"
   ]
  },
  {
   "cell_type": "code",
   "execution_count": null,
   "metadata": {},
   "outputs": [],
   "source": []
  }
 ],
 "metadata": {
  "kernelspec": {
   "display_name": "Python 3",
   "language": "python",
   "name": "python3"
  },
  "language_info": {
   "codemirror_mode": {
    "name": "ipython",
    "version": 3
   },
   "file_extension": ".py",
   "mimetype": "text/x-python",
   "name": "python",
   "nbconvert_exporter": "python",
   "pygments_lexer": "ipython3",
   "version": "3.6.3"
  }
 },
 "nbformat": 4,
 "nbformat_minor": 2
}
